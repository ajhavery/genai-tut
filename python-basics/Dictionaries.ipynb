{
 "cells": [
  {
   "cell_type": "markdown",
   "metadata": {},
   "source": [
    "# Dictionaries\n",
    "\n",
    "Dictionaries allow us to store data in Key:Value pair"
   ]
  },
  {
   "cell_type": "code",
   "execution_count": 25,
   "metadata": {},
   "outputs": [],
   "source": [
    "student = {\"name\":\"Ankur\", \"age\":33, \"gender\":\"male\"}"
   ]
  },
  {
   "cell_type": "code",
   "execution_count": 5,
   "metadata": {},
   "outputs": [
    {
     "name": "stdout",
     "output_type": "stream",
     "text": [
      "Ankur\n",
      "33\n",
      "male\n"
     ]
    }
   ],
   "source": [
    "# Accessing Dictionary Element\n",
    "\n",
    "print(student['name'])\n",
    "print(student['age'])\n",
    "print(student['gender'])"
   ]
  },
  {
   "cell_type": "code",
   "execution_count": 7,
   "metadata": {},
   "outputs": [
    {
     "name": "stdout",
     "output_type": "stream",
     "text": [
      "Ankur\n",
      "33\n",
      "male\n"
     ]
    }
   ],
   "source": [
    "# Accessing Dictionary Element Using get()\n",
    "\n",
    "print(student.get('name'))\n",
    "print(student.get('age'))\n",
    "print(student.get('gender'))"
   ]
  },
  {
   "cell_type": "code",
   "execution_count": 8,
   "metadata": {},
   "outputs": [
    {
     "name": "stdout",
     "output_type": "stream",
     "text": [
      "{'name': 'Ankur', 'age': 34, 'gender': 'male', 'address': 'Delhi'}\n"
     ]
    }
   ],
   "source": [
    "# Modifying Dictionary Elements\n",
    "# Dictionaries are Mutable, i.e. we can add, update or delete elements\n",
    "\n",
    "student['age'] = 34\n",
    "student['address'] = 'Delhi'\n",
    "print(student)"
   ]
  },
  {
   "cell_type": "code",
   "execution_count": 10,
   "metadata": {},
   "outputs": [
    {
     "name": "stdout",
     "output_type": "stream",
     "text": [
      "{'name': 'Ankur', 'age': 34, 'gender': 'male'}\n"
     ]
    }
   ],
   "source": [
    "# delete a key value pair\n",
    "\n",
    "del student['address']\n",
    "print(student)"
   ]
  },
  {
   "cell_type": "code",
   "execution_count": 14,
   "metadata": {},
   "outputs": [
    {
     "name": "stdout",
     "output_type": "stream",
     "text": [
      "Keys are: dict_keys(['name', 'age', 'gender'])\n",
      "Values are: dict_values(['Ankur', 34, 'male'])\n",
      "Values are: dict_items([('name', 'Ankur'), ('age', 34), ('gender', 'male')])\n"
     ]
    }
   ],
   "source": [
    "# Dictionary Methods\n",
    "\n",
    "# get all keys\n",
    "keys = student.keys()\n",
    "print(f'Keys are: {keys}')\n",
    "\n",
    "# get all values\n",
    "values = student.values()\n",
    "print(f'Values are: {values}')\n",
    "\n",
    "# get all dictionary items\n",
    "items = student.items()\n",
    "print(f'Values are: {items}')"
   ]
  },
  {
   "cell_type": "code",
   "execution_count": 16,
   "metadata": {},
   "outputs": [
    {
     "name": "stdout",
     "output_type": "stream",
     "text": [
      "name\n",
      "age\n",
      "gender\n"
     ]
    }
   ],
   "source": [
    "# Loop over Dictionaries\n",
    "\n",
    "for key in student.keys():\n",
    "  print(key)"
   ]
  },
  {
   "cell_type": "code",
   "execution_count": 17,
   "metadata": {},
   "outputs": [
    {
     "name": "stdout",
     "output_type": "stream",
     "text": [
      "Ankur\n",
      "34\n",
      "male\n"
     ]
    }
   ],
   "source": [
    "for value in student.values():\n",
    "  print(value)"
   ]
  },
  {
   "cell_type": "code",
   "execution_count": 18,
   "metadata": {},
   "outputs": [
    {
     "name": "stdout",
     "output_type": "stream",
     "text": [
      "For Key: name, value is: Ankur\n",
      "For Key: age, value is: 34\n",
      "For Key: gender, value is: male\n"
     ]
    }
   ],
   "source": [
    "# Iterate over dictionary items\n",
    "\n",
    "for key,value in student.items():\n",
    "  print(f'For Key: {key}, value is: {value}')"
   ]
  },
  {
   "cell_type": "code",
   "execution_count": 26,
   "metadata": {},
   "outputs": [
    {
     "data": {
      "text/plain": [
       "{'student1': {'name': 'Ankur', 'age': 33, 'gender': 'male'},\n",
       " 'student2': {'name': 'Abhishek', 'age': 35, 'gender': 'male'}}"
      ]
     },
     "execution_count": 26,
     "metadata": {},
     "output_type": "execute_result"
    }
   ],
   "source": [
    "# Nested Dictionaries\n",
    "\n",
    "students = {\n",
    "  \"student1\": {\"name\":\"Ankur\", \"age\":33, \"gender\":\"male\"},\n",
    "  \"student2\": {\"name\":\"Abhishek\", \"age\":35, \"gender\":\"male\"}\n",
    "}\n",
    "\n",
    "students"
   ]
  },
  {
   "cell_type": "code",
   "execution_count": 29,
   "metadata": {},
   "outputs": [
    {
     "data": {
      "text/plain": [
       "'Abhishek'"
      ]
     },
     "execution_count": 29,
     "metadata": {},
     "output_type": "execute_result"
    }
   ],
   "source": [
    "# Access Nested Dictionary Elements\n",
    "\n",
    "name2 = students[\"student2\"][\"name\"]\n",
    "name2"
   ]
  },
  {
   "cell_type": "code",
   "execution_count": 31,
   "metadata": {},
   "outputs": [
    {
     "name": "stdout",
     "output_type": "stream",
     "text": [
      "student id: student1, student info: {'name': 'Ankur', 'age': 33, 'gender': 'male'}\n",
      "name: Ankur\n",
      "age: 33\n",
      "gender: male\n",
      "student id: student2, student info: {'name': 'Abhishek', 'age': 35, 'gender': 'male'}\n",
      "name: Abhishek\n",
      "age: 35\n",
      "gender: male\n"
     ]
    }
   ],
   "source": [
    "# Iterating over nested dictionaries\n",
    "\n",
    "for student_id, student_info in students.items():\n",
    "  print(f'student id: {student_id}, student info: {student_info}')\n",
    "  for key,value in student_info.items():\n",
    "    print(f'{key}: {value}')"
   ]
  },
  {
   "cell_type": "code",
   "execution_count": 33,
   "metadata": {},
   "outputs": [
    {
     "data": {
      "text/plain": [
       "{0: 0, 1: 1, 2: 4, 3: 9, 4: 16}"
      ]
     },
     "execution_count": 33,
     "metadata": {},
     "output_type": "execute_result"
    }
   ],
   "source": [
    "# Dictionary Comprehension\n",
    "\n",
    "squares = {x:x**2 for x in range(5)}\n",
    "squares"
   ]
  },
  {
   "cell_type": "code",
   "execution_count": 34,
   "metadata": {},
   "outputs": [
    {
     "data": {
      "text/plain": [
       "{0: 0, 2: 4, 4: 16, 6: 36, 8: 64}"
      ]
     },
     "execution_count": 34,
     "metadata": {},
     "output_type": "execute_result"
    }
   ],
   "source": [
    "# Conditional dictionary comprehesion\n",
    "\n",
    "# Dictionary Comprehension\n",
    "\n",
    "evens = {x:x**2 for x in range(10) if x%2==0}\n",
    "evens"
   ]
  },
  {
   "cell_type": "code",
   "execution_count": 35,
   "metadata": {},
   "outputs": [
    {
     "data": {
      "text/plain": [
       "{'a': 1, 'b': 3, 'c': 4}"
      ]
     },
     "execution_count": 35,
     "metadata": {},
     "output_type": "execute_result"
    }
   ],
   "source": [
    "# Merge 2 dictionaries into 1\n",
    "\n",
    "dict1 = {\"a\":1,\"b\":2}\n",
    "dict2 = {\"b\":3,\"c\":4}\n",
    "\n",
    "merged_dict = {**dict1, **dict2} # ** expands the dictionary\n",
    "merged_dict"
   ]
  },
  {
   "cell_type": "code",
   "execution_count": null,
   "metadata": {},
   "outputs": [],
   "source": []
  }
 ],
 "metadata": {
  "kernelspec": {
   "display_name": "genaitut",
   "language": "python",
   "name": "python3"
  },
  "language_info": {
   "codemirror_mode": {
    "name": "ipython",
    "version": 3
   },
   "file_extension": ".py",
   "mimetype": "text/x-python",
   "name": "python",
   "nbconvert_exporter": "python",
   "pygments_lexer": "ipython3",
   "version": "3.11.9"
  }
 },
 "nbformat": 4,
 "nbformat_minor": 2
}
