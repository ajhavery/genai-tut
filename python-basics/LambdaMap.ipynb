{
 "cells": [
  {
   "cell_type": "markdown",
   "metadata": {},
   "source": [
    "# Lambda Function\n",
    "\n",
    "* Small anonymous functions defined using the lambda keyword.\n",
    "* Can have any number of arguments, but only 1 expression\n",
    "* Used for short expressions, or as argument to higher order functions"
   ]
  },
  {
   "cell_type": "code",
   "execution_count": 1,
   "metadata": {},
   "outputs": [
    {
     "data": {
      "text/plain": [
       "<function __main__.<lambda>(arguments)>"
      ]
     },
     "execution_count": 1,
     "metadata": {},
     "output_type": "execute_result"
    }
   ],
   "source": [
    "# Syntax\n",
    "lambda arguments: expression"
   ]
  },
  {
   "cell_type": "code",
   "execution_count": 4,
   "metadata": {},
   "outputs": [
    {
     "name": "stdout",
     "output_type": "stream",
     "text": [
      "5\n"
     ]
    }
   ],
   "source": [
    "addition = lambda a,b: a+b\n",
    "print(addition(2,3))"
   ]
  },
  {
   "cell_type": "code",
   "execution_count": 6,
   "metadata": {},
   "outputs": [
    {
     "name": "stdout",
     "output_type": "stream",
     "text": [
      "False\n",
      "True\n"
     ]
    }
   ],
   "source": [
    "even = lambda a:a%2==0\n",
    "print(even(5))\n",
    "print(even(8))"
   ]
  },
  {
   "cell_type": "markdown",
   "metadata": {},
   "source": [
    "## Map\n",
    ".map() applies a function to all items in a list (or any other iterable item) and returns a map"
   ]
  },
  {
   "cell_type": "code",
   "execution_count": 4,
   "metadata": {},
   "outputs": [
    {
     "data": {
      "text/plain": [
       "[1, 4, 9, 16, 25, 36, 49, 64, 81]"
      ]
     },
     "execution_count": 4,
     "metadata": {},
     "output_type": "execute_result"
    }
   ],
   "source": [
    "numbers = [1,2,3,4,5,6,7,8,9]\n",
    "square_list = list(map(lambda a:a**2, numbers))\n",
    "square_list"
   ]
  },
  {
   "cell_type": "code",
   "execution_count": 5,
   "metadata": {},
   "outputs": [
    {
     "name": "stdout",
     "output_type": "stream",
     "text": [
      "[6, 8, 10, 12]\n"
     ]
    }
   ],
   "source": [
    "# Map multiple iterables\n",
    "\n",
    "numbers1 = [1,2,3,4]\n",
    "numbers2 = [5,6,7,8]\n",
    "\n",
    "added_numbers = list(map(lambda x,y:x+y, numbers1, numbers2))\n",
    "print(added_numbers)"
   ]
  },
  {
   "cell_type": "code",
   "execution_count": 6,
   "metadata": {},
   "outputs": [
    {
     "name": "stdout",
     "output_type": "stream",
     "text": [
      "[1, 2, 3, 4, 5, 6]\n"
     ]
    }
   ],
   "source": [
    "# Map to convert a list of strings to integer\n",
    "\n",
    "str_numbers = ['1', '2', '3', '4', '5', '6']\n",
    "int_numbers = list(map(int, str_numbers))\n",
    "print(int_numbers)"
   ]
  },
  {
   "cell_type": "code",
   "execution_count": 7,
   "metadata": {},
   "outputs": [
    {
     "name": "stdout",
     "output_type": "stream",
     "text": [
      "['APPLE', 'MANGO', 'BANANA']\n"
     ]
    }
   ],
   "source": [
    "# Convert all strings to Uppercase\n",
    "\n",
    "fruits = [\"apple\", \"mango\", \"banana\"]\n",
    "upper_fruits = list(map(str.upper, fruits))\n",
    "print(upper_fruits)"
   ]
  },
  {
   "cell_type": "code",
   "execution_count": 8,
   "metadata": {},
   "outputs": [
    {
     "name": "stdout",
     "output_type": "stream",
     "text": [
      "['Ankur', 'Abhishek']\n"
     ]
    }
   ],
   "source": [
    "people = [\n",
    "  {'name': \"Ankur\", \"age\": 32},\n",
    "  {'name': \"Abhishek\", \"age\": 34}\n",
    "]\n",
    "\n",
    "get_name = list(map(lambda people:people['name'], people))\n",
    "print(get_name)"
   ]
  },
  {
   "cell_type": "code",
   "execution_count": null,
   "metadata": {},
   "outputs": [],
   "source": []
  }
 ],
 "metadata": {
  "kernelspec": {
   "display_name": "genaitut",
   "language": "python",
   "name": "python3"
  },
  "language_info": {
   "codemirror_mode": {
    "name": "ipython",
    "version": 3
   },
   "file_extension": ".py",
   "mimetype": "text/x-python",
   "name": "python",
   "nbconvert_exporter": "python",
   "pygments_lexer": "ipython3",
   "version": "3.11.9"
  }
 },
 "nbformat": 4,
 "nbformat_minor": 2
}
