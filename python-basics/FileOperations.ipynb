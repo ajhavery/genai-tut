{
 "cells": [
  {
   "cell_type": "markdown",
   "metadata": {},
   "source": [
    "# File Operations"
   ]
  },
  {
   "cell_type": "code",
   "execution_count": 13,
   "metadata": {},
   "outputs": [
    {
     "name": "stdout",
     "output_type": "stream",
     "text": [
      "Hello World!\n",
      "This is a new line.\n",
      "This is another line - appended..\n",
      "this is the first line\n",
      "this is the second line\n",
      "this is the third line\n",
      "\n"
     ]
    }
   ],
   "source": [
    "### Read a whole file\n",
    "\n",
    "with open('files/SourceData.txt', 'r') as file:\n",
    "  content = file.read()\n",
    "  print(content)"
   ]
  },
  {
   "cell_type": "code",
   "execution_count": 8,
   "metadata": {},
   "outputs": [
    {
     "name": "stdout",
     "output_type": "stream",
     "text": [
      "Hello World!\n",
      "\n",
      "This is a new line.\n",
      "\n"
     ]
    }
   ],
   "source": [
    "### Read a file line by line\n",
    "\n",
    "with open('files/SourceData.txt', 'r') as file:\n",
    "  for line in file:\n",
    "    print(line)"
   ]
  },
  {
   "cell_type": "code",
   "execution_count": 9,
   "metadata": {},
   "outputs": [
    {
     "name": "stdout",
     "output_type": "stream",
     "text": [
      "Hello World!\n",
      "This is a new line.\n"
     ]
    }
   ],
   "source": [
    "### Read a file line by line\n",
    "\n",
    "with open('files/SourceData.txt', 'r') as file:\n",
    "  for line in file:\n",
    "    print(line.strip())"
   ]
  },
  {
   "cell_type": "code",
   "execution_count": 6,
   "metadata": {},
   "outputs": [],
   "source": [
    "### Overwriting a file\n",
    "# Open the file in write mode\n",
    "\n",
    "with open('files/SourceData.txt', 'w') as file:\n",
    "  file.write('Hello World!\\n')\n",
    "  file.write('This is a new line.\\n')"
   ]
  },
  {
   "cell_type": "code",
   "execution_count": 10,
   "metadata": {},
   "outputs": [],
   "source": [
    "### Write new lines in a file (Not Overwrite)\n",
    "# Open the file in append mode\n",
    "\n",
    "with open('files/SourceData.txt', 'a') as file:\n",
    "  file.write('This is another line - appended..\\n')"
   ]
  },
  {
   "cell_type": "code",
   "execution_count": 12,
   "metadata": {},
   "outputs": [],
   "source": [
    "### Writing multiple lines to a file\n",
    "### Writing a list of lines to a file\n",
    "\n",
    "lines = ['this is the first line\\n', 'this is the second line\\n', 'this is the third line\\n']\n",
    "\n",
    "with open('files/SourceData.txt', 'a') as file:\n",
    "  file.writelines(lines)\n"
   ]
  },
  {
   "cell_type": "code",
   "execution_count": 14,
   "metadata": {},
   "outputs": [],
   "source": [
    "### Dealing with Binary Files\n",
    "\n",
    "data = b'\\x00\\x01\\x02\\x03\\x04'\n",
    "\n",
    "# create a new file example.bin and write to it\n",
    "# 'wb' is the file mode - write binary\n",
    "\n",
    "with open('files/example.bin', 'wb') as file:\n",
    "  file.write(data)"
   ]
  },
  {
   "cell_type": "code",
   "execution_count": 16,
   "metadata": {},
   "outputs": [
    {
     "name": "stdout",
     "output_type": "stream",
     "text": [
      "b'\\x00\\x01\\x02\\x03\\x04'\n"
     ]
    }
   ],
   "source": [
    "### Read a binary file\n",
    "# 'rb' is the key to read binary\n",
    "\n",
    "with open('files/example.bin', 'rb') as file:\n",
    "  content = file.read()\n",
    "  print(content)"
   ]
  },
  {
   "cell_type": "code",
   "execution_count": 18,
   "metadata": {},
   "outputs": [
    {
     "name": "stdout",
     "output_type": "stream",
     "text": [
      "lines: 6, characters: 137, words: 28\n"
     ]
    }
   ],
   "source": [
    "### Read a text file and count the number of lines, characters and words\n",
    "\n",
    "def count_text_file(file_path):\n",
    "  with open(file_path, 'r') as file:\n",
    "    lines = file.readlines()\n",
    "    line_count = len(lines)\n",
    "    word_count = sum(len(line.split()) for line in lines)\n",
    "    char_count = sum(len(line) for line in lines)\n",
    "  return line_count, word_count, char_count\n",
    "\n",
    "file_path = 'files/SourceData.txt'\n",
    "lines, words, characters = count_text_file(file_path)\n",
    "print(f'lines: {lines}, characters: {characters}, words: {words}')"
   ]
  },
  {
   "cell_type": "code",
   "execution_count": 20,
   "metadata": {},
   "outputs": [
    {
     "name": "stdout",
     "output_type": "stream",
     "text": [
      "Hello World!\n",
      "This is a new line in w+ mode.\n",
      "\n"
     ]
    }
   ],
   "source": [
    "## Writing and then reading a file\n",
    "#  r+ mode opens the file for both reading and writing.\n",
    "#  w+ mode opens the file for both writing and reading.\n",
    "#  a+ mode opens the file for both appending and reading.\n",
    "\n",
    "file_path = 'files/SourceData.txt'\n",
    "\n",
    "with open(file_path, 'w+') as file:\n",
    "    file.write('Hello World!\\n')\n",
    "    file.write('This is a new line in w+ mode.\\n')\n",
    "\n",
    "    # As the cursor is at end, read() will read from there and return null\n",
    "    # use file.seek(0) to move the cursor to beginning of file to start from beginning\n",
    "    file.seek(0)\n",
    "\n",
    "    # Read the content of the file\n",
    "    content = file.read()\n",
    "    print(content)"
   ]
  },
  {
   "cell_type": "code",
   "execution_count": 25,
   "metadata": {},
   "outputs": [],
   "source": [
    "# Create a new directory\n",
    "\n",
    "import os\n",
    "\n",
    "new_dir_name = \"files/directory\"\n",
    "os.mkdir(new_dir_name)"
   ]
  },
  {
   "cell_type": "code",
   "execution_count": 35,
   "metadata": {},
   "outputs": [
    {
     "name": "stdout",
     "output_type": "stream",
     "text": [
      "/Users/apple/Development/PythonProjects/GenAITut/python-basics\n",
      "Listing all files in source directory\n",
      "['Filters.ipynb', 'FileOperations.ipynb', 'Lists.ipynb', 'Loops.ipynb', 'Functions.ipynb', 'LambdaMap.ipynb', 'StandardLibraries.ipynb', 'Dictionaries.ipynb', 'files'] \n",
      "\n",
      "Listing all files in files directory\n",
      "['SourceData.txt', 'example.csv', 'DestinationData.txt', 'DestinationNewData.txt', 'directory', 'example.bin']\n"
     ]
    }
   ],
   "source": [
    "print(os.getcwd())\n",
    "\n",
    "# List all directories\n",
    "print('Listing all files in source directory')\n",
    "print(os.listdir('.'), '\\n')\n",
    "\n",
    "print('Listing all files in files directory')\n",
    "print(os.listdir('files'))"
   ]
  },
  {
   "cell_type": "code",
   "execution_count": 38,
   "metadata": {},
   "outputs": [
    {
     "name": "stdout",
     "output_type": "stream",
     "text": [
      "Hello World!\n",
      "This is a line in new example file.\n",
      "\n"
     ]
    }
   ],
   "source": [
    "# Joining paths\n",
    "\n",
    "dir_name = \"files\"\n",
    "sub_dir_name = \"directory\"\n",
    "file_name = \"new_example.txt\"\n",
    "\n",
    "full_path = os.path.join(dir_name, sub_dir_name, file_name)\n",
    "\n",
    "with open(full_path, 'w+') as file:\n",
    "    file.write('Hello World!\\n')\n",
    "    file.write('This is a line in new example file.\\n')\n",
    "\n",
    "    file.seek(0)\n",
    "\n",
    "    print(file.read())"
   ]
  },
  {
   "cell_type": "code",
   "execution_count": 39,
   "metadata": {},
   "outputs": [
    {
     "name": "stdout",
     "output_type": "stream",
     "text": [
      "new file created at: files/directory/example2.txt\n",
      "following content were written to the file\n",
      "Hello World!\n",
      "This is a line in new example file.\n",
      "\n"
     ]
    }
   ],
   "source": [
    "# Joining paths\n",
    "\n",
    "dir_name = \"files\"\n",
    "sub_dir_name = \"directory\"\n",
    "file_name = \"example2.txt\"\n",
    "\n",
    "full_path = os.path.join(dir_name, sub_dir_name, file_name)\n",
    "\n",
    "# if path exists, then print it, else create the file\n",
    "if os.path.exists(full_path):\n",
    "  print(f'file exists at path: {full_path}')\n",
    "else:\n",
    "  with open(full_path, 'w+') as file:\n",
    "    file.write('Hello World!\\n')\n",
    "    file.write('This is a line in new example file.\\n')\n",
    "\n",
    "    file.seek(0)\n",
    "\n",
    "    print(f'new file created at: {full_path}')\n",
    "    print('following content were written to the file')\n",
    "    print(file.read())"
   ]
  },
  {
   "cell_type": "code",
   "execution_count": 41,
   "metadata": {},
   "outputs": [
    {
     "name": "stdout",
     "output_type": "stream",
     "text": [
      "the path: files/directory/example3.txt does not exists.\n"
     ]
    }
   ],
   "source": [
    "# Checking if path is file or directory\n",
    "\n",
    "dir_name = \"files\"\n",
    "sub_dir_name = \"directory\"\n",
    "file_name = \"example3.txt\"\n",
    "\n",
    "full_path = os.path.join(dir_name, sub_dir_name, file_name)\n",
    "\n",
    "if os.path.isfile(full_path):\n",
    "  print(f'the path: {full_path} is a file.')\n",
    "elif os.path.isdir(full_path):\n",
    "  print(f'the path: {full_path} is a directory.')\n",
    "else:\n",
    "  print(f'the path: {full_path} does not exists.')"
   ]
  },
  {
   "cell_type": "code",
   "execution_count": null,
   "metadata": {},
   "outputs": [],
   "source": []
  }
 ],
 "metadata": {
  "kernelspec": {
   "display_name": "genaitut",
   "language": "python",
   "name": "python3"
  },
  "language_info": {
   "codemirror_mode": {
    "name": "ipython",
    "version": 3
   },
   "file_extension": ".py",
   "mimetype": "text/x-python",
   "name": "python",
   "nbconvert_exporter": "python",
   "pygments_lexer": "ipython3",
   "version": "3.11.9"
  }
 },
 "nbformat": 4,
 "nbformat_minor": 2
}
