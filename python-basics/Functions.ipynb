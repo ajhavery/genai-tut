{
 "cells": [
  {
   "cell_type": "markdown",
   "metadata": {},
   "source": [
    "# Python Functions"
   ]
  },
  {
   "cell_type": "code",
   "execution_count": 2,
   "metadata": {},
   "outputs": [],
   "source": [
    "# Function Syntax\n",
    "\n",
    "def function_name(parameters):\n",
    "  \"\"\" Docstring \"\"\"\n",
    "  # Function Body\n",
    "  return expression"
   ]
  },
  {
   "cell_type": "code",
   "execution_count": 7,
   "metadata": {},
   "outputs": [],
   "source": [
    "# Positional Arguments\n",
    "\n",
    "def print_num(*args):\n",
    "  for num in args:\n",
    "    print(num)"
   ]
  },
  {
   "cell_type": "code",
   "execution_count": 6,
   "metadata": {},
   "outputs": [
    {
     "name": "stdout",
     "output_type": "stream",
     "text": [
      "1\n",
      "2\n",
      "3\n",
      "krish\n",
      "Ankur\n"
     ]
    }
   ],
   "source": [
    "print_num(1,2,3,\"krish\",\"Ankur\")"
   ]
  },
  {
   "cell_type": "code",
   "execution_count": 10,
   "metadata": {},
   "outputs": [],
   "source": [
    "# Keyword Arguments\n",
    "\n",
    "def print_details(**kwargs):\n",
    "  for key,value in kwargs.items():\n",
    "    print(f'{key}: {value}')"
   ]
  },
  {
   "cell_type": "code",
   "execution_count": 12,
   "metadata": {},
   "outputs": [
    {
     "name": "stdout",
     "output_type": "stream",
     "text": [
      "name: Ankur\n",
      "age: 32\n",
      "gender: male\n"
     ]
    }
   ],
   "source": [
    "print_details(name=\"Ankur\", age=32, gender=\"male\")"
   ]
  },
  {
   "cell_type": "code",
   "execution_count": 13,
   "metadata": {},
   "outputs": [],
   "source": [
    "def print_items(*args, **kwargs):\n",
    "    for num in args:\n",
    "      print(num)\n",
    "    for key,value in kwargs.items():\n",
    "      print(f'{key}: {value}')"
   ]
  },
  {
   "cell_type": "code",
   "execution_count": 14,
   "metadata": {},
   "outputs": [
    {
     "name": "stdout",
     "output_type": "stream",
     "text": [
      "1\n",
      "2\n",
      "3\n",
      "krish\n",
      "Ankur\n",
      "name: Ankur\n",
      "age: 32\n",
      "gender: male\n"
     ]
    }
   ],
   "source": [
    "print_items(1,2,3,\"krish\",\"Ankur\",name=\"Ankur\", age=32, gender=\"male\")"
   ]
  },
  {
   "cell_type": "markdown",
   "metadata": {},
   "source": [
    "## Password Strength Checker"
   ]
  },
  {
   "cell_type": "code",
   "execution_count": 15,
   "metadata": {},
   "outputs": [],
   "source": [
    "def is_strong_password(password):\n",
    "  \"\"\"The function checks if a password is strong or not\"\"\"\n",
    "  if len(password) < 8:\n",
    "    return False\n",
    "  if not any(char.isdigit() for char in password):\n",
    "    return False\n",
    "  if not any(char.islower() for char in password):\n",
    "    return False\n",
    "  if not any(char.isupper() for char in password):\n",
    "    return False\n",
    "  if not any(char in '!@#$%^&*()_' for char in password):\n",
    "    return False\n",
    "  return True"
   ]
  },
  {
   "cell_type": "code",
   "execution_count": 17,
   "metadata": {},
   "outputs": [
    {
     "name": "stdout",
     "output_type": "stream",
     "text": [
      "False\n",
      "True\n"
     ]
    }
   ],
   "source": [
    "print(is_strong_password(\"Password\"))\n",
    "print(is_strong_password(\"PassW0r_d\"))"
   ]
  },
  {
   "cell_type": "code",
   "execution_count": null,
   "metadata": {},
   "outputs": [],
   "source": []
  }
 ],
 "metadata": {
  "kernelspec": {
   "display_name": "genaitut",
   "language": "python",
   "name": "python3"
  },
  "language_info": {
   "codemirror_mode": {
    "name": "ipython",
    "version": 3
   },
   "file_extension": ".py",
   "mimetype": "text/x-python",
   "name": "python",
   "nbconvert_exporter": "python",
   "pygments_lexer": "ipython3",
   "version": "3.11.9"
  }
 },
 "nbformat": 4,
 "nbformat_minor": 2
}
