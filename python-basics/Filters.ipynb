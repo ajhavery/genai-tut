{
 "cells": [
  {
   "cell_type": "markdown",
   "metadata": {},
   "source": [
    "# Filter()\n",
    "\n",
    "* It is used to filter out items from a list based on certain conditions.\n",
    "* Syntax is similar to map()"
   ]
  },
  {
   "cell_type": "code",
   "execution_count": 2,
   "metadata": {},
   "outputs": [],
   "source": [
    "lst = [1,2,3,4,5,6,7,8,9,10,11,12]"
   ]
  },
  {
   "cell_type": "code",
   "execution_count": 4,
   "metadata": {},
   "outputs": [
    {
     "name": "stdout",
     "output_type": "stream",
     "text": [
      "[2, 4, 6, 8, 10, 12]\n"
     ]
    }
   ],
   "source": [
    "# Filter using lambda function\n",
    "\n",
    "new_list = list(filter(lambda x:x%2==0, lst))\n",
    "print(new_list)"
   ]
  },
  {
   "cell_type": "code",
   "execution_count": 5,
   "metadata": {},
   "outputs": [
    {
     "name": "stdout",
     "output_type": "stream",
     "text": [
      "[6, 8, 10, 12]\n"
     ]
    }
   ],
   "source": [
    "# Filter using lambda and multiple conditions\n",
    "\n",
    "new_list_2 = list(filter(lambda x:x%2==0 and x>5, lst))\n",
    "print(new_list_2)"
   ]
  },
  {
   "cell_type": "code",
   "execution_count": 6,
   "metadata": {},
   "outputs": [
    {
     "name": "stdout",
     "output_type": "stream",
     "text": [
      "[{'name': 'Ankur', 'age': 32}, {'name': 'Abhishek', 'age': 34}, {'name': 'Vyas', 'age': 30}]\n"
     ]
    }
   ],
   "source": [
    "# Filter in a list\n",
    "\n",
    "people = [\n",
    "  {'name': \"Ankur\", \"age\": 32},\n",
    "  {'name': \"Abhishek\", \"age\": 34},\n",
    "  {'name': \"Sumit\", \"age\": 24},\n",
    "  {'name': \"Vyas\", \"age\": 30},\n",
    "  {'name': \"Amit\", \"age\": 16}\n",
    "]\n",
    "\n",
    "new_people = list(filter(lambda people:people['age']>25, people))\n",
    "print(new_people)"
   ]
  },
  {
   "cell_type": "code",
   "execution_count": null,
   "metadata": {},
   "outputs": [],
   "source": []
  }
 ],
 "metadata": {
  "kernelspec": {
   "display_name": "genaitut",
   "language": "python",
   "name": "python3"
  },
  "language_info": {
   "codemirror_mode": {
    "name": "ipython",
    "version": 3
   },
   "file_extension": ".py",
   "mimetype": "text/x-python",
   "name": "python",
   "nbconvert_exporter": "python",
   "pygments_lexer": "ipython3",
   "version": "3.11.9"
  }
 },
 "nbformat": 4,
 "nbformat_minor": 2
}
